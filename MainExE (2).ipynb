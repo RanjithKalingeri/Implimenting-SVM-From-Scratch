{
  "nbformat": 4,
  "nbformat_minor": 0,
  "metadata": {
    "colab": {
      "name": "ML_ASSIGNMENT2_PROBLEM2_MIT2020017",
      "provenance": [],
      "toc_visible": true
    },
    "kernelspec": {
      "name": "python3",
      "display_name": "Python 3"
    },
    "language_info": {
      "name": "python"
    }
  },
  "cells": [
    {
      "cell_type": "markdown",
      "metadata": {
        "id": "lwmQgbxirUZ1"
      },
      "source": [
        "#NOTE : If you want accuracy plots of iris data. run 'importing iris data cell' only before running svm functions. like wise for landsat data set"
      ]
    },
    {
      "cell_type": "markdown",
      "metadata": {
        "id": "X2caRtWGr-Nf"
      },
      "source": [
        "#Importing Iris data set"
      ]
    },
    {
      "cell_type": "code",
      "metadata": {
        "colab": {
          "base_uri": "https://localhost:8080/"
        },
        "id": "d1NWKQO2xd7U",
        "outputId": "752aa075-0301-4c88-e82f-fb39b2fe6689"
      },
      "source": [
        "import pandas as pd\n",
        "import numpy as np\n",
        "\n",
        "url = 'https://raw.githubusercontent.com/RanjithKalingeri/housing-price-/main/Iris.csv'\n",
        "df = pd.read_csv(url)\n",
        "\n",
        "df = df.sample(frac = 1)\n",
        "\n",
        "#print(df)\n",
        "data_raw = df.to_numpy()\n",
        "#print (data)\n",
        "\n",
        "def refine_data (data): \n",
        "    for i in range(data.shape[0]): \n",
        "        if data[i][5] == 'Iris-setosa':\n",
        "            data[i][5] = 1\n",
        "        elif data[i][5] == 'Iris-versicolor':\n",
        "            data[i][5] = -1\n",
        "        elif data[i][5] == 'Iris-virginica':\n",
        "            data[i][5] = -1\n",
        "    data = np.delete(data,[0],1)\n",
        "    return data\n",
        "\n",
        "data_iris = refine_data(data_raw)\n",
        "\n",
        "\n",
        "X_total = np.delete(data_iris, 4, 1)\n",
        "y_total = np.delete(data_iris, [0,1,2,3], 1)\n",
        "\n",
        "\n",
        "\n",
        "y = y_total[0:105]\n",
        "X = X_total[0:105]\n",
        "\n",
        "y = y.astype(float)\n",
        "X = X.astype(float)\n",
        "\n",
        "\n",
        "y_train = y_total[105:150]\n",
        "X_train = X_total[105:150]\n",
        "\n",
        "y_train = y_train.astype(float)\n",
        "X_train = X_train.astype(float)\n",
        "\n",
        "\n",
        "\n",
        "\n",
        "print(X[0:10])"
      ],
      "execution_count": 6,
      "outputs": [
        {
          "output_type": "stream",
          "text": [
            "[[5.7 2.9 4.2 1.3]\n",
            " [5.5 2.3 4.  1.3]\n",
            " [5.6 2.5 3.9 1.1]\n",
            " [5.  3.6 1.4 0.2]\n",
            " [5.9 3.  4.2 1.5]\n",
            " [6.  2.9 4.5 1.5]\n",
            " [6.6 2.9 4.6 1.3]\n",
            " [4.3 3.  1.1 0.1]\n",
            " [7.3 2.9 6.3 1.8]\n",
            " [7.7 3.  6.1 2.3]]\n"
          ],
          "name": "stdout"
        }
      ]
    },
    {
      "cell_type": "markdown",
      "metadata": {
        "id": "rX0Sz72qUraE"
      },
      "source": [
        "#importing landsat Dataset "
      ]
    },
    {
      "cell_type": "code",
      "metadata": {
        "colab": {
          "base_uri": "https://localhost:8080/"
        },
        "id": "sx1ke4-lUyac",
        "outputId": "2bcd809b-b468-4ab5-f547-5c585660a2da"
      },
      "source": [
        "url = 'https://raw.githubusercontent.com/RanjithKalingeri/housing-price-/main/satimage_csv.csv'\n",
        "\n",
        "df = pd.read_csv(url)\n",
        "df = df.sample(frac = 1)\n",
        "data_raw = df.to_numpy()\n",
        "print(data_raw[1][36])\n",
        "print(data_raw.shape[0])\n",
        "\n",
        "\n",
        "def refine_data_sat (data): \n",
        "    for i in range(data.shape[0]): \n",
        "        #print(i)\n",
        "        if data[i][36] == 1:\n",
        "            data[i][36] = 1\n",
        "        elif data[i][36] == 2:\n",
        "            data[i][36] = -1\n",
        "        elif data[i][36] == 3:\n",
        "            data[i][36] = -1\n",
        "        elif data[i][36] == 4:\n",
        "            data[i][36] = -1\n",
        "        elif data[i][36] == 5:\n",
        "            data[i][36] = -1\n",
        "        elif data[i][36] == 6:\n",
        "            data[i][36] = -1\n",
        "        elif data[i][36] == 7:\n",
        "            data[i][36] = -1\n",
        "    return data\n",
        "\n",
        "data_raw = refine_data_sat (data_raw)\n",
        "#print(data_raw)\n",
        "#data_raw = data_raw[data_raw[:,-1].argsort()]\n",
        "\n",
        "data_raw = data_raw[0:6430]\n",
        "#print(data_raw)\n",
        "\n",
        "X_total = np.delete(data_raw, 36, 1)\n",
        "y_total = np.delete(data_raw, range(36), 1)\n",
        "\n",
        "y = y_total[0:4501]\n",
        "X = X_total[0:4501]\n",
        "\n",
        "y = y.astype(float)\n",
        "X = X.astype(float)\n",
        "\n",
        "\n",
        "y_train = y_total[4501:6430]\n",
        "X_train = X_total[4501:6430]\n",
        "\n",
        "y_train = y_train.astype(float)\n",
        "X_train = X_train.astype(float)\n"
      ],
      "execution_count": 4,
      "outputs": [
        {
          "output_type": "stream",
          "text": [
            "7.0\n",
            "6430\n"
          ],
          "name": "stdout"
        }
      ]
    },
    {
      "cell_type": "markdown",
      "metadata": {
        "id": "R3uKSE03xufF"
      },
      "source": [
        "##SVM - poly kernel"
      ]
    },
    {
      "cell_type": "code",
      "metadata": {
        "id": "HseWn7xVCCtl",
        "colab": {
          "base_uri": "https://localhost:8080/",
          "height": 1000
        },
        "outputId": "dceca3c7-19c7-40a6-f074-0e72e85f2b57"
      },
      "source": [
        "import numpy as np\n",
        "from cvxopt import matrix, solvers\n",
        "import matplotlib.pyplot as plt\n",
        "\n",
        "\n",
        "def accuracy ( testset, predicted):\n",
        "    testset1 = testset.reshape(1,-1)\n",
        "    testset1 = testset1[0]\n",
        "    #print(testset1)\n",
        "    correct =0\n",
        "    for x in range(len(testset1)):\n",
        "        if testset[x] == predicted[x]:\n",
        "            correct += 1\n",
        "        #print(repr(correct))\n",
        "        #print(len(testset))\n",
        "    return ((correct)/(len(testset))) * 100\n",
        "\n",
        "\n",
        "def poly_kernel(x, z, degree, intercept):\n",
        "        return np.power(np.matmul(x, z.T) + intercept, degree)\n",
        "\n",
        "def gaussian_kernel(x, z, sigma):\n",
        "    n = x.shape[0]\n",
        "    m = z.shape[0]\n",
        "    xx = np.dot(np.sum(np.power(x, 2), 1).reshape(n, 1), np.ones((1, m)))\n",
        "    zz = np.dot(np.sum(np.power(z, 2), 1).reshape(m, 1), np.ones((1, n)))     \n",
        "    return np.exp(-(xx + zz.T - 2 * np.dot(x, z.T)) / (2 * sigma ** 2))\n",
        "\n",
        "def linear_kernel(x, z):\n",
        "    return np.matmul(x, z.T)\n",
        "\n",
        "\n",
        "def main_poly(degreee):\n",
        "    m, n = X.shape\n",
        "    K = poly_kernel(X, X,degreee, intercept = 1)\n",
        "    P = matrix(np.matmul(y,y.T) * K)\n",
        "    q = matrix(np.ones((m, 1)) * -1)\n",
        "    A = matrix(y.reshape(1, -1))\n",
        "    b = matrix(np.zeros(1))          \n",
        "    G = matrix(np.eye(m) * -1)\n",
        "    h = matrix(np.zeros(m))\n",
        "    solution = solvers.qp(P, q, G, h, A, b)\n",
        "    alphas = np.array(solution['x'])\n",
        "    ind = (alphas > 1e-4).flatten()\n",
        "    sv = X[ind]\n",
        "    sv_y = y[ind]\n",
        "    alphas = alphas[ind]\n",
        "    b = sv_y - np.sum(poly_kernel(sv, sv, degreee, intercept = 1) * alphas * sv_y, axis=0)\n",
        "    b = np.sum(b) / b.size\n",
        "    prod = np.sum(poly_kernel(sv, X_train, degreee, intercept = 1) * alphas * sv_y, axis=0) + b\n",
        "    #print(prod)\n",
        "    predictions = np.sign(prod)\n",
        "    #print(predictions)\n",
        "    #print(y_train.T)\n",
        "    acc = accuracy(y_train, predictions)\n",
        "    #print(acc)\n",
        "    return acc\n",
        "\n",
        "#main()\n",
        "\n",
        "\n",
        "\n",
        "degreee = range(5)\n",
        "result = []\n",
        "for i in degreee: \n",
        "    res = main_poly(i)\n",
        "    result.append(res)\n",
        "plt.xlabel(\"degree\")\n",
        "plt.ylabel(\"Accuracy\")\n",
        "plt.plot(degreee, result)\n",
        "print(result)\n"
      ],
      "execution_count": 16,
      "outputs": [
        {
          "output_type": "stream",
          "text": [
            "     pcost       dcost       gap    pres   dres\n",
            " 0: -9.9048e+01 -2.2168e+02  1e+02  1e-15  2e+00\n",
            " 1: -2.2206e+02 -2.2481e+02  3e+00  4e-15  1e+00\n",
            " 2: -1.8196e+04 -1.8198e+04  2e+00  3e-13  1e+00\n",
            " 3: -1.4553e+08 -1.4553e+08  2e+02  6e-09  1e+00\n",
            " 4: -1.5165e+11 -1.5165e+11  2e+05  3e-06  1e+00\n",
            "Terminated (singular KKT matrix).\n",
            "     pcost       dcost       gap    pres   dres\n",
            " 0: -8.4835e+00 -1.4924e+01  3e+02  2e+01  2e+00\n",
            " 1: -4.4481e+00 -3.0132e+00  5e+01  3e+00  2e-01\n",
            " 2: -6.4974e-01 -1.5473e+00  4e+00  2e-01  2e-02\n",
            " 3: -4.5989e-01 -8.8709e-01  5e-01  7e-03  6e-04\n",
            " 4: -5.6545e-01 -7.6182e-01  2e-01  3e-03  3e-04\n",
            " 5: -6.6336e-01 -7.6867e-01  1e-01  4e-16  8e-15\n",
            " 6: -7.4399e-01 -7.4865e-01  5e-03  1e-16  1e-14\n",
            " 7: -7.4799e-01 -7.4806e-01  7e-05  3e-16  9e-15\n",
            " 8: -7.4806e-01 -7.4806e-01  9e-07  3e-16  9e-15\n",
            " 9: -7.4806e-01 -7.4806e-01  9e-09  2e-16  9e-15\n",
            "Optimal solution found.\n",
            "     pcost       dcost       gap    pres   dres\n",
            " 0: -2.3234e+00 -4.0543e+00  2e+02  1e+01  1e+00\n",
            " 1: -1.2423e+00 -1.5203e+00  3e+01  2e+00  2e-01\n",
            " 2: -3.5290e-01 -3.0900e-01  3e+00  2e-01  2e-02\n",
            " 3: -1.6368e-01 -1.0584e-01  7e-01  4e-02  4e-03\n",
            " 4: -5.5371e-02 -2.4833e-02  1e-01  7e-03  6e-04\n",
            " 5: -1.5122e-02 -1.3759e-02  2e-02  1e-03  1e-04\n",
            " 6: -8.1971e-03 -9.2090e-03  5e-03  2e-04  2e-05\n",
            " 7: -8.2223e-03 -9.8853e-03  5e-03  2e-04  2e-05\n",
            " 8: -8.5993e-03 -8.8963e-03  7e-04  2e-05  2e-06\n",
            " 9: -8.8508e-03 -8.8577e-03  1e-05  3e-07  3e-08\n",
            "10: -8.8570e-03 -8.8570e-03  1e-07  3e-09  3e-10\n",
            "11: -8.8570e-03 -8.8570e-03  1e-09  3e-11  3e-12\n",
            "Optimal solution found.\n",
            "     pcost       dcost       gap    pres   dres\n",
            " 0: -9.5292e-01 -1.5325e+00  2e+02  1e+01  1e+00\n",
            " 1: -4.1296e-01 -3.3739e-01  1e+01  1e+00  1e-01\n",
            " 2: -9.8423e-02 -4.1649e-02  1e+00  1e-01  1e-02\n",
            " 3: -1.3031e-02 -1.1770e-02  2e-01  1e-02  1e-03\n",
            " 4: -4.2462e-03 -3.7312e-03  3e-02  2e-03  2e-04\n",
            " 5: -2.1915e-03 -1.6924e-03  7e-03  4e-04  4e-05\n",
            " 6: -1.4260e-03 -6.5675e-04  2e-03  1e-04  1e-05\n",
            " 7: -4.5247e-04 -2.4677e-04  5e-04  2e-05  3e-06\n",
            " 8: -1.2466e-04 -1.4519e-04  7e-05  2e-06  2e-07\n",
            " 9: -1.2472e-04 -1.5461e-04  6e-05  9e-07  1e-07\n",
            "10: -1.3701e-04 -1.4036e-04  6e-06  8e-08  9e-09\n",
            "11: -1.3981e-04 -1.3999e-04  2e-07  8e-11  9e-12\n",
            "12: -1.3998e-04 -1.3998e-04  2e-09  8e-13  1e-13\n",
            "Optimal solution found.\n",
            "     pcost       dcost       gap    pres   dres\n",
            " 0: -2.2860e-01 -3.2613e-01  1e+02  1e+01  1e+00\n",
            " 1: -5.8217e-02 -6.4436e-02  6e+00  5e-01  5e-02\n",
            " 2: -1.4228e-02 -1.3206e-02  5e-01  4e-02  4e-03\n",
            " 3: -5.0123e-03 -3.4800e-03  6e-02  5e-03  5e-04\n",
            " 4: -1.5214e-03 -4.9241e-04  1e-02  9e-04  9e-05\n",
            " 5: -1.8484e-04 -1.5652e-04  1e-03  1e-04  1e-05\n",
            " 6: -7.3709e-05 -6.3669e-05  3e-04  2e-05  2e-06\n",
            " 7: -4.4848e-05 -3.4545e-05  1e-04  6e-06  6e-07\n",
            " 8: -3.1042e-05 -1.9248e-05  4e-05  2e-06  2e-07\n",
            " 9: -1.5575e-05 -6.6173e-06  2e-05  7e-07  8e-08\n",
            "10: -3.7098e-06 -2.9459e-06  3e-06  9e-08  9e-09\n",
            "11: -2.7342e-06 -2.5633e-06  1e-06  4e-08  4e-09\n",
            "12: -2.0768e-06 -2.5391e-06  5e-07  1e-21  7e-15\n",
            "13: -2.3033e-06 -2.5080e-06  2e-07  1e-21  5e-15\n",
            "14: -2.4181e-06 -2.4952e-06  8e-08  6e-22  4e-15\n",
            "Optimal solution found.\n",
            "[77.77777777777779, 100.0, 100.0, 100.0, 0.0]\n"
          ],
          "name": "stdout"
        },
        {
          "output_type": "stream",
          "text": [
            "/usr/local/lib/python3.7/dist-packages/ipykernel_launcher.py:49: RuntimeWarning: invalid value encountered in double_scalars\n"
          ],
          "name": "stderr"
        },
        {
          "output_type": "display_data",
          "data": {
            "image/png": "[encoded data removed]",
            "text/plain": [
              "<Figure size 432x288 with 1 Axes>"
            ]
          },
          "metadata": {
            "tags": [],
            "needs_background": "light"
          }
        }
      ]
    },
    {
      "cell_type": "markdown",
      "metadata": {
        "id": "j6ypObLsRZvm"
      },
      "source": [
        "##SVM Linear Kernel "
      ]
    },
    {
      "cell_type": "code",
      "metadata": {
        "colab": {
          "base_uri": "https://localhost:8080/"
        },
        "id": "PyPjXDzURaX6",
        "outputId": "80770a84-da5e-4b76-9708-1792a9f867ce"
      },
      "source": [
        "def main_linear():\n",
        "    m, n = X.shape\n",
        "    K = linear_kernel(X, X)\n",
        "    P = matrix(np.matmul(y,y.T) * K)\n",
        "    q = matrix(np.ones((m, 1)) * -1)\n",
        "    A = matrix(y.reshape(1, -1))\n",
        "    b = matrix(np.zeros(1))          \n",
        "    G = matrix(np.eye(m) * -1)\n",
        "    h = matrix(np.zeros(m))\n",
        "    solution = solvers.qp(P, q, G, h, A, b)\n",
        "    alphas = np.array(solution['x'])\n",
        "    ind = (alphas > 1e-4).flatten()\n",
        "    sv = X[ind]\n",
        "    sv_y = y[ind]\n",
        "    alphas = alphas[ind]\n",
        "    b = sv_y - np.sum(linear_kernel(sv, sv, ) * alphas * sv_y, axis=0)\n",
        "    b = np.sum(b) / b.size\n",
        "    prod = np.sum(linear_kernel(sv, X_train) * alphas * sv_y, axis=0) + b\n",
        "    #print(prod)\n",
        "    predictions = np.sign(prod)\n",
        "    #print(predictions)\n",
        "    #print(y_train.T)\n",
        "    acc = accuracy(y_train, predictions)\n",
        "    #print(acc)\n",
        "    return acc\n",
        "\n",
        "main_linear()"
      ],
      "execution_count": 13,
      "outputs": [
        {
          "output_type": "stream",
          "text": [
            "     pcost       dcost       gap    pres   dres\n",
            " 0: -8.4835e+00 -1.4924e+01  3e+02  2e+01  2e+00\n",
            " 1: -4.4481e+00 -3.0132e+00  5e+01  3e+00  2e-01\n",
            " 2: -6.4974e-01 -1.5473e+00  4e+00  2e-01  2e-02\n",
            " 3: -4.5989e-01 -8.8709e-01  5e-01  7e-03  6e-04\n",
            " 4: -5.6545e-01 -7.6182e-01  2e-01  3e-03  3e-04\n",
            " 5: -6.6336e-01 -7.6867e-01  1e-01  8e-16  8e-15\n",
            " 6: -7.4399e-01 -7.4865e-01  5e-03  4e-16  9e-15\n",
            " 7: -7.4799e-01 -7.4806e-01  7e-05  2e-16  9e-15\n",
            " 8: -7.4806e-01 -7.4806e-01  9e-07  2e-16  1e-14\n",
            " 9: -7.4806e-01 -7.4806e-01  9e-09  2e-16  8e-15\n",
            "Optimal solution found.\n",
            "[-1. -1.  1. -1. -1.  1. -1.  1.  1.  1. -1. -1. -1. -1. -1. -1. -1. -1.\n",
            " -1. -1. -1. -1. -1. -1. -1. -1. -1. -1. -1. -1.  1. -1.  1. -1. -1.  1.\n",
            " -1. -1. -1. -1. -1. -1.  1. -1.  1.]\n"
          ],
          "name": "stdout"
        },
        {
          "output_type": "execute_result",
          "data": {
            "text/plain": [
              "100.0"
            ]
          },
          "metadata": {
            "tags": []
          },
          "execution_count": 13
        }
      ]
    },
    {
      "cell_type": "markdown",
      "metadata": {
        "id": "lT8aM6xKtU2j"
      },
      "source": [
        "##SVM - Gaussian RBF"
      ]
    },
    {
      "cell_type": "code",
      "metadata": {
        "colab": {
          "base_uri": "https://localhost:8080/",
          "height": 1000
        },
        "id": "-Qg3jvtJtVMq",
        "outputId": "ab959db2-fb8a-46c7-daa9-0ed11a935ea0"
      },
      "source": [
        "def main_gas(sigmaa):\n",
        "    m, n = X.shape\n",
        "    K = gaussian_kernel(X, X, sigmaa)\n",
        "    P = matrix(np.matmul(y,y.T) * K)\n",
        "    q = matrix(np.ones((m, 1)) * -1)\n",
        "    A = matrix(y.reshape(1, -1))\n",
        "    b = matrix(np.zeros(1))          \n",
        "    G = matrix(np.eye(m) * -1)\n",
        "    h = matrix(np.zeros(m))\n",
        "    solution = solvers.qp(P, q, G, h, A, b)\n",
        "    alphas = np.array(solution['x'])\n",
        "    ind = (alphas > 1e-4).flatten()\n",
        "    sv = X[ind]\n",
        "    sv_y = y[ind]\n",
        "    alphas = alphas[ind]\n",
        "    b = sv_y - np.sum(gaussian_kernel(sv, sv, sigmaa)* alphas * sv_y, axis=0)\n",
        "    b = np.sum(b) / b.size\n",
        "    RES = gaussian_kernel(sv, X_train, sigmaa)\n",
        "    #print('look down')\n",
        "    #print(RES)\n",
        "    prod = np.sum(gaussian_kernel(sv, X_train, sigmaa)* alphas * sv_y, axis=0) + b\n",
        "    #print(prod)\n",
        "    predictions = np.sign(prod)\n",
        "    #print(predictions)\n",
        "    #print(y_train.T)\n",
        "    acc = accuracy(y_train, predictions)\n",
        "    #print(acc)\n",
        "    return acc\n",
        "\n",
        "#main()\n",
        "\n",
        "\n",
        "\n",
        "sigmaa = [0.1, 0.2,0.3, 0.4, 0.5, 0.6, 0.7, 0.8, 0.9, 1]\n",
        "result = []\n",
        "for i in sigmaa: \n",
        "    res = main_gas(i)\n",
        "    result.append(res)\n",
        "plt.xlabel(\"sigma\")\n",
        "plt.ylabel(\"Accuracy\")\n",
        "plt.plot(sigmaa, result)\n",
        "print(result)\n"
      ],
      "execution_count": 12,
      "outputs": [
        {
          "output_type": "stream",
          "text": [
            "     pcost       dcost       gap    pres   dres\n",
            " 0: -3.0589e+01 -8.1421e+01  5e+01  9e-15  2e+00\n",
            " 1: -3.6693e+01 -3.9038e+01  2e+00  1e-15  3e-01\n",
            " 2: -3.8913e+01 -3.9220e+01  3e-01  1e-15  1e-02\n",
            " 3: -3.8924e+01 -3.8930e+01  6e-03  2e-15  2e-04\n",
            " 4: -3.8925e+01 -3.8925e+01  8e-05  2e-15  2e-06\n",
            " 5: -3.8925e+01 -3.8925e+01  8e-07  2e-15  2e-08\n",
            "Optimal solution found.\n",
            "[-1. -1.  1. -1. -1.  1. -1.  1.  1.  1. -1. -1. -1. -1. -1. -1. -1. -1.\n",
            " -1. -1. -1. -1. -1. -1. -1. -1. -1. -1. -1. -1.  1. -1.  1. -1. -1.  1.\n",
            " -1. -1. -1. -1. -1. -1.  1. -1.  1.]\n",
            "     pcost       dcost       gap    pres   dres\n",
            " 0: -1.8051e+01 -5.4380e+01  4e+01  6e-16  2e+00\n",
            " 1: -2.0395e+01 -2.3427e+01  3e+00  9e-16  3e-01\n",
            " 2: -2.1440e+01 -2.2010e+01  6e-01  9e-16  3e-02\n",
            " 3: -2.1501e+01 -2.1561e+01  6e-02  1e-15  2e-03\n",
            " 4: -2.1511e+01 -2.1519e+01  8e-03  1e-15  1e-04\n",
            " 5: -2.1512e+01 -2.1513e+01  3e-04  1e-15  2e-06\n",
            " 6: -2.1512e+01 -2.1513e+01  1e-05  1e-15  2e-08\n",
            "Optimal solution found.\n",
            "[-1. -1.  1. -1. -1.  1. -1.  1.  1.  1. -1. -1. -1. -1. -1. -1. -1. -1.\n",
            " -1. -1. -1. -1. -1. -1. -1. -1. -1. -1. -1. -1.  1. -1.  1. -1. -1.  1.\n",
            " -1. -1. -1. -1. -1. -1.  1. -1.  1.]\n",
            "     pcost       dcost       gap    pres   dres\n",
            " 0: -1.0678e+01 -3.3975e+01  2e+02  1e+01  2e+00\n",
            " 1: -6.7492e+00 -2.9467e+01  2e+01  2e-15  3e-16\n",
            " 2: -1.1731e+01 -1.3975e+01  2e+00  3e-15  3e-16\n",
            " 3: -1.2217e+01 -1.2550e+01  3e-01  6e-16  1e-16\n",
            " 4: -1.2324e+01 -1.2379e+01  6e-02  7e-16  1e-16\n",
            " 5: -1.2346e+01 -1.2352e+01  6e-03  9e-16  1e-16\n",
            " 6: -1.2348e+01 -1.2349e+01  3e-04  6e-16  1e-16\n",
            " 7: -1.2349e+01 -1.2349e+01  2e-05  6e-16  1e-16\n",
            " 8: -1.2349e+01 -1.2349e+01  5e-07  7e-16  2e-16\n",
            "Optimal solution found.\n",
            "[-1. -1.  1. -1. -1.  1. -1.  1.  1.  1. -1. -1. -1. -1. -1. -1. -1. -1.\n",
            " -1. -1. -1. -1. -1. -1. -1. -1. -1. -1. -1. -1.  1. -1.  1. -1. -1.  1.\n",
            " -1. -1. -1. -1. -1. -1.  1. -1.  1.]\n",
            "     pcost       dcost       gap    pres   dres\n",
            " 0: -7.1501e+00 -2.2839e+01  2e+02  1e+01  2e+00\n",
            " 1: -3.0152e+00 -2.1578e+01  2e+01  2e-15  4e-16\n",
            " 2: -7.3898e+00 -9.4370e+00  2e+00  2e-15  4e-16\n",
            " 3: -7.8860e+00 -8.2365e+00  4e-01  6e-16  2e-16\n",
            " 4: -7.9982e+00 -8.1043e+00  1e-01  5e-16  2e-16\n",
            " 5: -8.0437e+00 -8.0627e+00  2e-02  6e-16  2e-16\n",
            " 6: -8.0531e+00 -8.0540e+00  8e-04  1e-15  1e-16\n",
            " 7: -8.0536e+00 -8.0536e+00  1e-05  1e-15  2e-16\n",
            " 8: -8.0536e+00 -8.0536e+00  1e-07  9e-16  1e-16\n",
            "Optimal solution found.\n",
            "[-1. -1.  1. -1. -1.  1. -1.  1.  1.  1. -1. -1. -1. -1. -1. -1. -1. -1.\n",
            " -1. -1. -1. -1. -1. -1. -1. -1. -1. -1. -1. -1.  1. -1.  1. -1. -1.  1.\n",
            " -1. -1. -1. -1. -1. -1.  1. -1.  1.]\n",
            "     pcost       dcost       gap    pres   dres\n",
            " 0: -5.2895e+00 -1.6761e+01  2e+02  1e+01  2e+00\n",
            " 1: -1.5930e+00 -1.6612e+01  2e+01  2e-15  4e-16\n",
            " 2: -5.2446e+00 -6.9854e+00  2e+00  6e-16  4e-16\n",
            " 3: -5.6827e+00 -6.0975e+00  4e-01  7e-16  2e-16\n",
            " 4: -5.8375e+00 -5.9290e+00  9e-02  4e-16  2e-16\n",
            " 5: -5.8822e+00 -5.8979e+00  2e-02  7e-16  2e-16\n",
            " 6: -5.8919e+00 -5.8930e+00  1e-03  5e-16  2e-16\n",
            " 7: -5.8926e+00 -5.8926e+00  2e-05  6e-16  1e-16\n",
            " 8: -5.8926e+00 -5.8926e+00  2e-07  4e-16  1e-16\n",
            "Optimal solution found.\n",
            "[-1. -1.  1. -1. -1.  1. -1.  1.  1.  1. -1. -1. -1. -1. -1. -1. -1. -1.\n",
            " -1. -1. -1. -1. -1. -1. -1. -1. -1. -1. -1. -1.  1. -1.  1. -1. -1.  1.\n",
            " -1. -1. -1. -1. -1. -1.  1. -1.  1.]\n",
            "     pcost       dcost       gap    pres   dres\n",
            " 0: -4.2002e+00 -1.3172e+01  2e+02  1e+01  1e+00\n",
            " 1: -9.6261e-01 -1.3470e+01  1e+01  2e-15  4e-16\n",
            " 2: -4.0506e+00 -5.5121e+00  1e+00  3e-16  4e-16\n",
            " 3: -4.4678e+00 -4.8159e+00  3e-01  3e-16  2e-16\n",
            " 4: -4.6160e+00 -4.6992e+00  8e-02  4e-16  2e-16\n",
            " 5: -4.6551e+00 -4.6730e+00  2e-02  4e-16  2e-16\n",
            " 6: -4.6662e+00 -4.6672e+00  1e-03  5e-16  2e-16\n",
            " 7: -4.6669e+00 -4.6669e+00  7e-05  5e-16  2e-16\n",
            " 8: -4.6669e+00 -4.6669e+00  1e-06  4e-16  2e-16\n",
            "Optimal solution found.\n",
            "[-1. -1.  1. -1. -1.  1. -1.  1.  1.  1. -1. -1. -1. -1. -1. -1. -1. -1.\n",
            " -1. -1. -1. -1. -1. -1. -1. -1. -1. -1. -1. -1.  1. -1.  1. -1. -1.  1.\n",
            " -1. -1. -1. -1. -1. -1.  1. -1.  1.]\n",
            "     pcost       dcost       gap    pres   dres\n",
            " 0: -3.5109e+00 -1.0902e+01  2e+02  1e+01  1e+00\n",
            " 1: -6.4657e-01 -1.1402e+01  1e+01  2e-15  4e-16\n",
            " 2: -3.3202e+00 -4.5829e+00  1e+00  3e-16  4e-16\n",
            " 3: -3.6592e+00 -4.0537e+00  4e-01  3e-16  2e-16\n",
            " 4: -3.8269e+00 -3.9226e+00  1e-01  5e-16  2e-16\n",
            " 5: -3.8801e+00 -3.8905e+00  1e-02  3e-16  2e-16\n",
            " 6: -3.8872e+00 -3.8878e+00  6e-04  5e-16  2e-16\n",
            " 7: -3.8876e+00 -3.8876e+00  2e-05  3e-16  2e-16\n",
            " 8: -3.8876e+00 -3.8876e+00  2e-06  6e-16  2e-16\n",
            "Optimal solution found.\n",
            "[-1. -1.  1. -1. -1.  1. -1.  1.  1.  1. -1. -1. -1. -1. -1. -1. -1. -1.\n",
            " -1. -1. -1. -1. -1. -1. -1. -1. -1. -1. -1. -1.  1. -1.  1. -1. -1.  1.\n",
            " -1. -1. -1. -1. -1. -1.  1. -1.  1.]\n",
            "     pcost       dcost       gap    pres   dres\n",
            " 0: -3.0549e+00 -9.4051e+00  2e+02  1e+01  1e+00\n",
            " 1: -4.7243e-01 -9.9950e+00  1e+01  2e-15  4e-16\n",
            " 2: -2.8389e+00 -4.0558e+00  1e+00  2e-16  4e-16\n",
            " 3: -3.1165e+00 -3.5331e+00  4e-01  2e-16  2e-16\n",
            " 4: -3.3105e+00 -3.4219e+00  1e-01  3e-16  2e-16\n",
            " 5: -3.3647e+00 -3.3810e+00  2e-02  4e-16  2e-16\n",
            " 6: -3.3757e+00 -3.3763e+00  6e-04  6e-16  2e-16\n",
            " 7: -3.3762e+00 -3.3762e+00  1e-05  3e-16  2e-16\n",
            " 8: -3.3762e+00 -3.3762e+00  7e-07  3e-16  2e-16\n",
            "Optimal solution found.\n",
            "[-1. -1.  1. -1. -1.  1. -1.  1.  1.  1. -1. -1. -1. -1. -1. -1. -1. -1.\n",
            " -1. -1. -1. -1. -1. -1. -1. -1. -1. -1. -1. -1.  1. -1.  1. -1. -1.  1.\n",
            " -1. -1. -1. -1. -1. -1.  1. -1.  1.]\n",
            "     pcost       dcost       gap    pres   dres\n",
            " 0: -2.7464e+00 -8.3936e+00  2e+02  1e+01  1e+00\n",
            " 1: -3.6376e-01 -9.0294e+00  9e+00  2e-15  4e-16\n",
            " 2: -2.5146e+00 -3.7389e+00  1e+00  3e-16  4e-16\n",
            " 3: -2.7899e+00 -3.1715e+00  4e-01  3e-16  2e-16\n",
            " 4: -2.9600e+00 -3.1102e+00  2e-01  3e-16  2e-16\n",
            " 5: -3.0218e+00 -3.0453e+00  2e-02  4e-16  2e-16\n",
            " 6: -3.0348e+00 -3.0386e+00  4e-03  4e-16  2e-16\n",
            " 7: -3.0377e+00 -3.0378e+00  9e-05  3e-16  2e-16\n",
            " 8: -3.0378e+00 -3.0378e+00  2e-06  5e-16  2e-16\n",
            "Optimal solution found.\n",
            "[-1. -1.  1. -1. -1.  1. -1.  1.  1.  1. -1. -1. -1. -1. -1. -1. -1. -1.\n",
            " -1. -1. -1. -1. -1. -1. -1. -1. -1. -1. -1. -1.  1. -1.  1. -1. -1.  1.\n",
            " -1. -1. -1. -1. -1. -1.  1. -1.  1.]\n",
            "     pcost       dcost       gap    pres   dres\n",
            " 0: -2.5372e+00 -7.7025e+00  2e+02  1e+01  1e+00\n",
            " 1: -2.9305e-01 -8.3654e+00  8e+00  1e-15  4e-16\n",
            " 2: -2.2944e+00 -3.5471e+00  1e+00  3e-16  5e-16\n",
            " 3: -2.5974e+00 -2.9440e+00  3e-01  2e-16  2e-16\n",
            " 4: -2.7247e+00 -2.9200e+00  2e-01  5e-16  2e-16\n",
            " 5: -2.7993e+00 -2.8403e+00  4e-02  3e-16  2e-16\n",
            " 6: -2.8240e+00 -2.8273e+00  3e-03  3e-16  2e-16\n",
            " 7: -2.8265e+00 -2.8266e+00  6e-05  3e-16  2e-16\n",
            " 8: -2.8266e+00 -2.8266e+00  1e-06  5e-16  2e-16\n",
            "Optimal solution found.\n",
            "[-1. -1.  1. -1. -1.  1. -1.  1.  1.  1. -1. -1. -1. -1. -1. -1. -1. -1.\n",
            " -1. -1. -1. -1. -1. -1. -1. -1. -1. -1. -1. -1.  1. -1.  1. -1. -1.  1.\n",
            " -1. -1. -1. -1. -1. -1.  1. -1.  1.]\n",
            "[91.11111111111111, 100.0, 100.0, 100.0, 100.0, 100.0, 100.0, 100.0, 100.0, 100.0]\n"
          ],
          "name": "stdout"
        },
        {
          "output_type": "display_data",
          "data": {
            "image/png": "[encoded data removed]",
            "text/plain": [
              "<Figure size 432x288 with 1 Axes>"
            ]
          },
          "metadata": {
            "tags": [],
            "needs_background": "light"
          }
        }
      ]
    }
  ]
}